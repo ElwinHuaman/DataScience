{
 "cells": [
  {
   "cell_type": "code",
   "execution_count": 8,
   "metadata": {},
   "outputs": [
    {
     "name": "stdout",
     "output_type": "stream",
     "text": [
      "[1, 4, 9, 16, 25, 36, 49, 64, 81, 100]\n",
      "[0, 1, 0, 1, 0, 1, 0, 1, 0, 1]\n"
     ]
    }
   ],
   "source": [
    "list = [i**2 for i in range(1,11)]\n",
    "print(list)\n",
    "list2 = [i%2 for i in range(0,10)]\n",
    "print(list2)"
   ]
  },
  {
   "cell_type": "code",
   "execution_count": 9,
   "metadata": {},
   "outputs": [
    {
     "name": "stdout",
     "output_type": "stream",
     "text": [
      "[4, 0, 0, 0, 4, 2, 2, 1, 5, 2]\n"
     ]
    }
   ],
   "source": [
    "import random\n",
    "list = [random.randint(0,5) for i in range(0,10)]\n",
    "print(list)"
   ]
  },
  {
   "cell_type": "code",
   "execution_count": 12,
   "metadata": {},
   "outputs": [
    {
     "name": "stdout",
     "output_type": "stream",
     "text": [
      "{65: 'A', 66: 'B', 67: 'C', 68: 'D', 69: 'E', 70: 'F', 71: 'G', 72: 'H', 73: 'I', 74: 'J', 75: 'K', 76: 'L', 77: 'M', 78: 'N', 79: 'O', 80: 'P', 81: 'Q', 82: 'R', 83: 'S', 84: 'T', 85: 'U', 86: 'V', 87: 'W', 88: 'X', 89: 'Y'}\n"
     ]
    }
   ],
   "source": [
    "#DICTIONARY COMPREHENSION\n",
    "dict = {i: chr(i) for i in range(65,90)}\n",
    "print(dict)"
   ]
  },
  {
   "cell_type": "code",
   "execution_count": 24,
   "metadata": {},
   "outputs": [
    {
     "name": "stdout",
     "output_type": "stream",
     "text": [
      "{'red', 'blue', 'green'}\n",
      "{'red', 'yellow', 'blue', 'green'}\n",
      "{'red', 'yellow', 'blue'}\n",
      "{'red', 'pink', 'white', 'yellow', 'blue'}\n",
      "{'blue'}\n"
     ]
    }
   ],
   "source": [
    "map = set(['blue', 'green', 'red'])\n",
    "map2 = set(['blue', 'white', 'pink'])\n",
    "print(map)\n",
    "map.add('yellow')\n",
    "print(map)\n",
    "map.discard('green')\n",
    "print(map)\n",
    "either = map.union(map2)\n",
    "print(either)\n",
    "both = map2.intersection(map)\n",
    "print(both)"
   ]
  },
  {
   "cell_type": "code",
   "execution_count": null,
   "metadata": {},
   "outputs": [],
   "source": []
  }
 ],
 "metadata": {
  "kernelspec": {
   "display_name": "Python 3.6",
   "language": "python",
   "name": "python36"
  },
  "language_info": {
   "codemirror_mode": {
    "name": "ipython",
    "version": 3
   },
   "file_extension": ".py",
   "mimetype": "text/x-python",
   "name": "python",
   "nbconvert_exporter": "python",
   "pygments_lexer": "ipython3",
   "version": "3.6.3"
  }
 },
 "nbformat": 4,
 "nbformat_minor": 2
}
